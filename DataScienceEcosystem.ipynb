{
  "metadata": {
    "kernelspec": {
      "name": "python",
      "display_name": "Python (Pyodide)",
      "language": "python"
    },
    "language_info": {
      "codemirror_mode": {
        "name": "python",
        "version": 3
      },
      "file_extension": ".py",
      "mimetype": "text/x-python",
      "name": "python",
      "nbconvert_exporter": "python",
      "pygments_lexer": "ipython3",
      "version": "3.8"
    }
  },
  "nbformat_minor": 5,
  "nbformat": 4,
  "cells": [
    {
      "id": "add7cc6f-ea65-4463-8f53-3608136d5804",
      "cell_type": "markdown",
      "source": "# Data Science Tools and Ecosystem",
      "metadata": {}
    },
    {
      "id": "80add1b5-795f-44de-a012-225cba3c66e2",
      "cell_type": "code",
      "source": "",
      "metadata": {
        "trusted": true
      },
      "outputs": [],
      "execution_count": null
    },
    {
      "id": "e4d7216f-627d-41ba-a8f4-4950de6ad97e",
      "cell_type": "markdown",
      "source": "In this notebook, Data Science Tools and Ecosystem are summarized.",
      "metadata": {}
    },
    {
      "id": "4f73ab26-a580-4cd6-9401-0c08e37ad751",
      "cell_type": "code",
      "source": "",
      "metadata": {
        "trusted": true
      },
      "outputs": [],
      "execution_count": null
    },
    {
      "id": "c4182f09-7b4a-4365-8a36-4688292951b0",
      "cell_type": "markdown",
      "source": "Some of the popular languages that Data Scientists use are:",
      "metadata": {}
    },
    {
      "id": "94032a47-d7aa-421f-8a07-b3c5861122b5",
      "cell_type": "markdown",
      "source": "1. Python\n2. R\n3. SQL",
      "metadata": {}
    },
    {
      "id": "a1dcd763-8d00-4e40-b181-0ebbc0e92278",
      "cell_type": "markdown",
      "source": "Some of the commonly used libraries used by Data Scientists include:",
      "metadata": {}
    },
    {
      "id": "dc4f9b86-a805-4699-8d1a-e9d82bb1b0b5",
      "cell_type": "markdown",
      "source": "1. Pandas\n2. NumPy\n3. TensorFlow\n4. PyTorch",
      "metadata": {}
    },
    {
      "id": "1d93fc5d-e06c-4000-968e-9b45e7557ac9",
      "cell_type": "markdown",
      "source": "| Data Science Tools |  |\n| -------------| ------ |\n| VS Code | |\n| RStudio |  |\n| Jupyter Notebook |  |",
      "metadata": {}
    },
    {
      "id": "e954f565-823a-4560-ac64-e2de02690162",
      "cell_type": "markdown",
      "source": "### Below are a few examples of evaluating arithmetic expressions in Python:\n1. m = 4,\nn = 6\nprod = m * n = 24\n2. x = 20,\ny = 7\ndiff = x - y = 13",
      "metadata": {}
    },
    {
      "id": "0ba55c8d-fade-4378-8656-6ab1ba60af63",
      "cell_type": "code",
      "source": "(3*4)+5 #This a simple arithmetic expression to mutiply then add integers ",
      "metadata": {
        "trusted": true
      },
      "outputs": [
        {
          "execution_count": 11,
          "output_type": "execute_result",
          "data": {
            "text/plain": "17"
          },
          "metadata": {}
        }
      ],
      "execution_count": 11
    },
    {
      "id": "f79f7bc8-af3c-49d1-86cc-984cb5b75c02",
      "cell_type": "code",
      "source": " 200/60 #This will convert 200 minutes to hours by diving by 60",
      "metadata": {
        "trusted": true
      },
      "outputs": [
        {
          "execution_count": 12,
          "output_type": "execute_result",
          "data": {
            "text/plain": "3.3333333333333335"
          },
          "metadata": {}
        }
      ],
      "execution_count": 12
    },
    {
      "id": "a0222feb-046d-4597-b678-9bf01cd95c90",
      "cell_type": "markdown",
      "source": "__Objectives:__\n+ Python\n+ Julia\n+ Scala\n+ SQL\n+ R",
      "metadata": {}
    },
    {
      "id": "17550075-c644-4a7a-8ac4-d5c5048ab5e3",
      "cell_type": "markdown",
      "source": "## Author\nDevansh Nayak",
      "metadata": {}
    },
    {
      "id": "8fe4c9b2-752d-453a-b432-22233782fa80",
      "cell_type": "code",
      "source": "",
      "metadata": {
        "trusted": true
      },
      "outputs": [],
      "execution_count": null
    }
  ]
}